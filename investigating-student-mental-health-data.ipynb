{
 "cells": [
  {
   "cell_type": "markdown",
   "id": "0e308d2a",
   "metadata": {
    "papermill": {
     "duration": 0.006396,
     "end_time": "2023-03-24T03:16:00.757505",
     "exception": false,
     "start_time": "2023-03-24T03:16:00.751109",
     "status": "completed"
    },
    "tags": []
   },
   "source": [
    "## Overview"
   ]
  },
  {
   "cell_type": "markdown",
   "id": "3d54a75c",
   "metadata": {
    "papermill": {
     "duration": 0.004993,
     "end_time": "2023-03-24T03:16:00.768234",
     "exception": false,
     "start_time": "2023-03-24T03:16:00.763241",
     "status": "completed"
    },
    "tags": []
   },
   "source": [
    "This is a data science project to investigate the features (e.g. year of study, major, gender, etc.) that most likely lead to anxiety. As a student myself, I know mental health is a big issue post-secondary institutions try to tackle. While mental health is different for everyone, it could give insight into which combination of characteristics would lead to the most anxiety-inducing experience at university.\n",
    "\n",
    "Credit: Dataset created by MD Shariful Islam, collected from the International Islamic University Malaysia"
   ]
  },
  {
   "cell_type": "markdown",
   "id": "7a91b0e5",
   "metadata": {
    "papermill": {
     "duration": 0.004808,
     "end_time": "2023-03-24T03:16:00.778247",
     "exception": false,
     "start_time": "2023-03-24T03:16:00.773439",
     "status": "completed"
    },
    "tags": []
   },
   "source": [
    "## Initial Setup"
   ]
  },
  {
   "cell_type": "code",
   "execution_count": 1,
   "id": "48728a1a",
   "metadata": {
    "_cell_guid": "b1076dfc-b9ad-4769-8c92-a6c4dae69d19",
    "_uuid": "8f2839f25d086af736a60e9eeb907d3b93b6e0e5",
    "execution": {
     "iopub.execute_input": "2023-03-24T03:16:00.791497Z",
     "iopub.status.busy": "2023-03-24T03:16:00.790691Z",
     "iopub.status.idle": "2023-03-24T03:16:00.815306Z",
     "shell.execute_reply": "2023-03-24T03:16:00.813805Z"
    },
    "papermill": {
     "duration": 0.03424,
     "end_time": "2023-03-24T03:16:00.817994",
     "exception": false,
     "start_time": "2023-03-24T03:16:00.783754",
     "status": "completed"
    },
    "tags": []
   },
   "outputs": [
    {
     "name": "stdout",
     "output_type": "stream",
     "text": [
      "/kaggle/input/student-mental-health/Student Mental health.csv\n"
     ]
    }
   ],
   "source": [
    "# This Python 3 environment comes with many helpful analytics libraries installed\n",
    "# It is defined by the kaggle/python Docker image: https://github.com/kaggle/docker-python\n",
    "# For example, here's several helpful packages to load\n",
    "\n",
    "import numpy as np # linear algebra\n",
    "import pandas as pd # data processing, CSV file I/O (e.g. pd.read_csv)\n",
    "import matplotlib.pyplot as plt\n",
    "\n",
    "# Input data files are available in the read-only \"../input/\" directory\n",
    "# For example, running this (by clicking run or pressing Shift+Enter) will list all files under the input directory\n",
    "\n",
    "import os\n",
    "for dirname, _, filenames in os.walk('/kaggle/input'):\n",
    "    for filename in filenames:\n",
    "        print(os.path.join(dirname, filename))\n",
    "\n",
    "# You can write up to 20GB to the current directory (/kaggle/working/) that gets preserved as output when you create a version using \"Save & Run All\" \n",
    "# You can also write temporary files to /kaggle/temp/, but they won't be saved outside of the current session"
   ]
  },
  {
   "cell_type": "code",
   "execution_count": 2,
   "id": "5b28503d",
   "metadata": {
    "execution": {
     "iopub.execute_input": "2023-03-24T03:16:00.830935Z",
     "iopub.status.busy": "2023-03-24T03:16:00.830048Z",
     "iopub.status.idle": "2023-03-24T03:16:00.849584Z",
     "shell.execute_reply": "2023-03-24T03:16:00.848577Z"
    },
    "papermill": {
     "duration": 0.028878,
     "end_time": "2023-03-24T03:16:00.852375",
     "exception": false,
     "start_time": "2023-03-24T03:16:00.823497",
     "status": "completed"
    },
    "tags": []
   },
   "outputs": [],
   "source": [
    "file_path = '../input/student-mental-health/Student Mental health.csv'\n",
    "health_data = pd.read_csv(file_path)"
   ]
  },
  {
   "cell_type": "markdown",
   "id": "f8bdb938",
   "metadata": {
    "papermill": {
     "duration": 0.00517,
     "end_time": "2023-03-24T03:16:00.862903",
     "exception": false,
     "start_time": "2023-03-24T03:16:00.857733",
     "status": "completed"
    },
    "tags": []
   },
   "source": [
    "## Data Exploration"
   ]
  },
  {
   "cell_type": "code",
   "execution_count": 3,
   "id": "b2a24809",
   "metadata": {
    "execution": {
     "iopub.execute_input": "2023-03-24T03:16:00.876264Z",
     "iopub.status.busy": "2023-03-24T03:16:00.875327Z",
     "iopub.status.idle": "2023-03-24T03:16:00.908808Z",
     "shell.execute_reply": "2023-03-24T03:16:00.907470Z"
    },
    "papermill": {
     "duration": 0.043146,
     "end_time": "2023-03-24T03:16:00.911386",
     "exception": false,
     "start_time": "2023-03-24T03:16:00.868240",
     "status": "completed"
    },
    "tags": []
   },
   "outputs": [
    {
     "data": {
      "text/html": [
       "<div>\n",
       "<style scoped>\n",
       "    .dataframe tbody tr th:only-of-type {\n",
       "        vertical-align: middle;\n",
       "    }\n",
       "\n",
       "    .dataframe tbody tr th {\n",
       "        vertical-align: top;\n",
       "    }\n",
       "\n",
       "    .dataframe thead th {\n",
       "        text-align: right;\n",
       "    }\n",
       "</style>\n",
       "<table border=\"1\" class=\"dataframe\">\n",
       "  <thead>\n",
       "    <tr style=\"text-align: right;\">\n",
       "      <th></th>\n",
       "      <th>Timestamp</th>\n",
       "      <th>Choose your gender</th>\n",
       "      <th>Age</th>\n",
       "      <th>What is your course?</th>\n",
       "      <th>Your current year of Study</th>\n",
       "      <th>What is your CGPA?</th>\n",
       "      <th>Marital status</th>\n",
       "      <th>Do you have Depression?</th>\n",
       "      <th>Do you have Anxiety?</th>\n",
       "      <th>Do you have Panic attack?</th>\n",
       "      <th>Did you seek any specialist for a treatment?</th>\n",
       "    </tr>\n",
       "  </thead>\n",
       "  <tbody>\n",
       "    <tr>\n",
       "      <th>0</th>\n",
       "      <td>8/7/2020 12:02</td>\n",
       "      <td>Female</td>\n",
       "      <td>18.0</td>\n",
       "      <td>Engineering</td>\n",
       "      <td>year 1</td>\n",
       "      <td>3.00 - 3.49</td>\n",
       "      <td>No</td>\n",
       "      <td>Yes</td>\n",
       "      <td>No</td>\n",
       "      <td>Yes</td>\n",
       "      <td>No</td>\n",
       "    </tr>\n",
       "    <tr>\n",
       "      <th>1</th>\n",
       "      <td>8/7/2020 12:04</td>\n",
       "      <td>Male</td>\n",
       "      <td>21.0</td>\n",
       "      <td>Islamic education</td>\n",
       "      <td>year 2</td>\n",
       "      <td>3.00 - 3.49</td>\n",
       "      <td>No</td>\n",
       "      <td>No</td>\n",
       "      <td>Yes</td>\n",
       "      <td>No</td>\n",
       "      <td>No</td>\n",
       "    </tr>\n",
       "    <tr>\n",
       "      <th>2</th>\n",
       "      <td>8/7/2020 12:05</td>\n",
       "      <td>Male</td>\n",
       "      <td>19.0</td>\n",
       "      <td>BIT</td>\n",
       "      <td>Year 1</td>\n",
       "      <td>3.00 - 3.49</td>\n",
       "      <td>No</td>\n",
       "      <td>Yes</td>\n",
       "      <td>Yes</td>\n",
       "      <td>Yes</td>\n",
       "      <td>No</td>\n",
       "    </tr>\n",
       "    <tr>\n",
       "      <th>3</th>\n",
       "      <td>8/7/2020 12:06</td>\n",
       "      <td>Female</td>\n",
       "      <td>22.0</td>\n",
       "      <td>Laws</td>\n",
       "      <td>year 3</td>\n",
       "      <td>3.00 - 3.49</td>\n",
       "      <td>Yes</td>\n",
       "      <td>Yes</td>\n",
       "      <td>No</td>\n",
       "      <td>No</td>\n",
       "      <td>No</td>\n",
       "    </tr>\n",
       "    <tr>\n",
       "      <th>4</th>\n",
       "      <td>8/7/2020 12:13</td>\n",
       "      <td>Male</td>\n",
       "      <td>23.0</td>\n",
       "      <td>Mathemathics</td>\n",
       "      <td>year 4</td>\n",
       "      <td>3.00 - 3.49</td>\n",
       "      <td>No</td>\n",
       "      <td>No</td>\n",
       "      <td>No</td>\n",
       "      <td>No</td>\n",
       "      <td>No</td>\n",
       "    </tr>\n",
       "  </tbody>\n",
       "</table>\n",
       "</div>"
      ],
      "text/plain": [
       "        Timestamp Choose your gender   Age What is your course?  \\\n",
       "0  8/7/2020 12:02             Female  18.0          Engineering   \n",
       "1  8/7/2020 12:04               Male  21.0    Islamic education   \n",
       "2  8/7/2020 12:05               Male  19.0                  BIT   \n",
       "3  8/7/2020 12:06             Female  22.0                 Laws   \n",
       "4  8/7/2020 12:13               Male  23.0         Mathemathics   \n",
       "\n",
       "  Your current year of Study What is your CGPA? Marital status  \\\n",
       "0                     year 1        3.00 - 3.49             No   \n",
       "1                     year 2        3.00 - 3.49             No   \n",
       "2                     Year 1        3.00 - 3.49             No   \n",
       "3                     year 3        3.00 - 3.49            Yes   \n",
       "4                     year 4        3.00 - 3.49             No   \n",
       "\n",
       "  Do you have Depression? Do you have Anxiety? Do you have Panic attack?  \\\n",
       "0                     Yes                   No                       Yes   \n",
       "1                      No                  Yes                        No   \n",
       "2                     Yes                  Yes                       Yes   \n",
       "3                     Yes                   No                        No   \n",
       "4                      No                   No                        No   \n",
       "\n",
       "  Did you seek any specialist for a treatment?  \n",
       "0                                           No  \n",
       "1                                           No  \n",
       "2                                           No  \n",
       "3                                           No  \n",
       "4                                           No  "
      ]
     },
     "execution_count": 3,
     "metadata": {},
     "output_type": "execute_result"
    }
   ],
   "source": [
    "# summary of data\n",
    "health_data.head()"
   ]
  },
  {
   "cell_type": "code",
   "execution_count": 4,
   "id": "aa4e9124",
   "metadata": {
    "execution": {
     "iopub.execute_input": "2023-03-24T03:16:00.924587Z",
     "iopub.status.busy": "2023-03-24T03:16:00.924203Z",
     "iopub.status.idle": "2023-03-24T03:16:00.939659Z",
     "shell.execute_reply": "2023-03-24T03:16:00.937553Z"
    },
    "papermill": {
     "duration": 0.026127,
     "end_time": "2023-03-24T03:16:00.943235",
     "exception": false,
     "start_time": "2023-03-24T03:16:00.917108",
     "status": "completed"
    },
    "tags": []
   },
   "outputs": [
    {
     "name": "stdout",
     "output_type": "stream",
     "text": [
      "Choose your gender:  ['Female' 'Male']\n",
      "What is your course?:  ['Engineering' 'Islamic education' 'BIT' 'Laws' 'Mathemathics'\n",
      " 'Pendidikan islam' 'BCS' 'Human Resources' 'Irkhs' 'Psychology' 'KENMS'\n",
      " 'Accounting ' 'ENM' 'Marine science' 'KOE' 'Banking Studies'\n",
      " 'Business Administration' 'Law' 'KIRKHS' 'Usuluddin ' 'TAASL' 'Engine'\n",
      " 'ALA' 'Biomedical science' 'koe' 'Kirkhs' 'BENL' 'Benl' 'IT' 'CTS'\n",
      " 'engin' 'Econs' 'MHSC' 'Malcom' 'Kop' 'Human Sciences ' 'Biotechnology'\n",
      " 'Communication ' 'Diploma Nursing' 'Pendidikan Islam ' 'Radiography'\n",
      " 'psychology' 'Fiqh fatwa ' 'DIPLOMA TESL' 'Koe' 'Fiqh'\n",
      " 'Islamic Education' 'Nursing ' 'Pendidikan Islam']\n",
      "Your current year of Study:  ['year 1' 'year 2' 'Year 1' 'year 3' 'year 4' 'Year 2' 'Year 3']\n",
      "What is your CGPA?:  ['3.00 - 3.49' '3.50 - 4.00' '3.50 - 4.00 ' '2.50 - 2.99' '2.00 - 2.49'\n",
      " '0 - 1.99']\n",
      "Do you have Depression?:  ['Yes' 'No']\n",
      "Do you have Anxiety?:  ['No' 'Yes']\n",
      "Do you have Panic attack?:  ['Yes' 'No']\n",
      "Did you seek any specialist for a treatment?:  ['No' 'Yes']\n",
      "Marital status:  ['No' 'Yes']\n"
     ]
    }
   ],
   "source": [
    "# finding all avalible options for each column\n",
    "print('Choose your gender: ', health_data['Choose your gender'].unique())\n",
    "print('What is your course?: ', health_data['What is your course?'].unique())\n",
    "print('Your current year of Study: ', health_data['Your current year of Study'].unique())\n",
    "print('What is your CGPA?: ', health_data['What is your CGPA?'].unique())\n",
    "\n",
    "print('Do you have Depression?: ', health_data['Do you have Depression?'].unique())\n",
    "print('Do you have Anxiety?: ', health_data['Do you have Anxiety?'].unique())\n",
    "print('Do you have Panic attack?: ', health_data['Do you have Panic attack?'].unique())\n",
    "print('Did you seek any specialist for a treatment?: ', health_data['Did you seek any specialist for a treatment?'].unique())\n",
    "print('Marital status: ', health_data['Marital status'].unique())"
   ]
  },
  {
   "cell_type": "code",
   "execution_count": 5,
   "id": "9ed9b844",
   "metadata": {
    "execution": {
     "iopub.execute_input": "2023-03-24T03:16:00.957088Z",
     "iopub.status.busy": "2023-03-24T03:16:00.956062Z",
     "iopub.status.idle": "2023-03-24T03:16:00.975864Z",
     "shell.execute_reply": "2023-03-24T03:16:00.974517Z"
    },
    "papermill": {
     "duration": 0.029256,
     "end_time": "2023-03-24T03:16:00.978430",
     "exception": false,
     "start_time": "2023-03-24T03:16:00.949174",
     "status": "completed"
    },
    "tags": []
   },
   "outputs": [
    {
     "data": {
      "text/html": [
       "<div>\n",
       "<style scoped>\n",
       "    .dataframe tbody tr th:only-of-type {\n",
       "        vertical-align: middle;\n",
       "    }\n",
       "\n",
       "    .dataframe tbody tr th {\n",
       "        vertical-align: top;\n",
       "    }\n",
       "\n",
       "    .dataframe thead th {\n",
       "        text-align: right;\n",
       "    }\n",
       "</style>\n",
       "<table border=\"1\" class=\"dataframe\">\n",
       "  <thead>\n",
       "    <tr style=\"text-align: right;\">\n",
       "      <th></th>\n",
       "      <th>Age</th>\n",
       "    </tr>\n",
       "  </thead>\n",
       "  <tbody>\n",
       "    <tr>\n",
       "      <th>count</th>\n",
       "      <td>100.00000</td>\n",
       "    </tr>\n",
       "    <tr>\n",
       "      <th>mean</th>\n",
       "      <td>20.53000</td>\n",
       "    </tr>\n",
       "    <tr>\n",
       "      <th>std</th>\n",
       "      <td>2.49628</td>\n",
       "    </tr>\n",
       "    <tr>\n",
       "      <th>min</th>\n",
       "      <td>18.00000</td>\n",
       "    </tr>\n",
       "    <tr>\n",
       "      <th>25%</th>\n",
       "      <td>18.00000</td>\n",
       "    </tr>\n",
       "    <tr>\n",
       "      <th>50%</th>\n",
       "      <td>19.00000</td>\n",
       "    </tr>\n",
       "    <tr>\n",
       "      <th>75%</th>\n",
       "      <td>23.00000</td>\n",
       "    </tr>\n",
       "    <tr>\n",
       "      <th>max</th>\n",
       "      <td>24.00000</td>\n",
       "    </tr>\n",
       "  </tbody>\n",
       "</table>\n",
       "</div>"
      ],
      "text/plain": [
       "             Age\n",
       "count  100.00000\n",
       "mean    20.53000\n",
       "std      2.49628\n",
       "min     18.00000\n",
       "25%     18.00000\n",
       "50%     19.00000\n",
       "75%     23.00000\n",
       "max     24.00000"
      ]
     },
     "execution_count": 5,
     "metadata": {},
     "output_type": "execute_result"
    }
   ],
   "source": [
    "# describing data\n",
    "health_data.describe()"
   ]
  },
  {
   "cell_type": "markdown",
   "id": "09220461",
   "metadata": {
    "papermill": {
     "duration": 0.005825,
     "end_time": "2023-03-24T03:16:00.990261",
     "exception": false,
     "start_time": "2023-03-24T03:16:00.984436",
     "status": "completed"
    },
    "tags": []
   },
   "source": [
    "## Data Cleaning"
   ]
  },
  {
   "cell_type": "code",
   "execution_count": 6,
   "id": "274503a7",
   "metadata": {
    "execution": {
     "iopub.execute_input": "2023-03-24T03:16:01.005139Z",
     "iopub.status.busy": "2023-03-24T03:16:01.003739Z",
     "iopub.status.idle": "2023-03-24T03:16:01.015420Z",
     "shell.execute_reply": "2023-03-24T03:16:01.014344Z"
    },
    "papermill": {
     "duration": 0.021655,
     "end_time": "2023-03-24T03:16:01.017916",
     "exception": false,
     "start_time": "2023-03-24T03:16:00.996261",
     "status": "completed"
    },
    "tags": []
   },
   "outputs": [],
   "source": [
    "# remove empty rows\n",
    "health_data = health_data.dropna()\n",
    "\n",
    "# lowercase\n",
    "health_data['Choose your gender'] = health_data['Choose your gender'].str.lower()\n",
    "health_data['What is your course?'] = health_data['What is your course?'].str.lower()\n",
    "health_data['Your current year of Study'] = health_data['Your current year of Study'].str.lower()\n",
    "health_data['What is your CGPA?'] = health_data['What is your CGPA?'].str.lower()"
   ]
  },
  {
   "cell_type": "code",
   "execution_count": 7,
   "id": "aa1d60d4",
   "metadata": {
    "execution": {
     "iopub.execute_input": "2023-03-24T03:16:01.036517Z",
     "iopub.status.busy": "2023-03-24T03:16:01.034778Z",
     "iopub.status.idle": "2023-03-24T03:16:01.044793Z",
     "shell.execute_reply": "2023-03-24T03:16:01.043593Z"
    },
    "papermill": {
     "duration": 0.023301,
     "end_time": "2023-03-24T03:16:01.047449",
     "exception": false,
     "start_time": "2023-03-24T03:16:01.024148",
     "status": "completed"
    },
    "tags": []
   },
   "outputs": [],
   "source": [
    "# trim whitespace\n",
    "health_data['Choose your gender'] = health_data['Choose your gender'].str.strip()\n",
    "health_data['What is your course?'] = health_data['What is your course?'].str.strip()\n",
    "health_data['Your current year of Study'] = health_data['Your current year of Study'].str.strip()\n",
    "health_data['What is your CGPA?'] = health_data['What is your CGPA?'].str.strip()"
   ]
  },
  {
   "cell_type": "code",
   "execution_count": 8,
   "id": "b06dee81",
   "metadata": {
    "execution": {
     "iopub.execute_input": "2023-03-24T03:16:01.063767Z",
     "iopub.status.busy": "2023-03-24T03:16:01.062859Z",
     "iopub.status.idle": "2023-03-24T03:16:01.072148Z",
     "shell.execute_reply": "2023-03-24T03:16:01.070901Z"
    },
    "papermill": {
     "duration": 0.021285,
     "end_time": "2023-03-24T03:16:01.074825",
     "exception": false,
     "start_time": "2023-03-24T03:16:01.053540",
     "status": "completed"
    },
    "tags": []
   },
   "outputs": [
    {
     "name": "stdout",
     "output_type": "stream",
     "text": [
      "Choose your gender:  ['female' 'male']\n",
      "What is your course?:  ['engineering' 'islamic education' 'bit' 'laws' 'mathemathics'\n",
      " 'pendidikan islam' 'bcs' 'human resources' 'irkhs' 'psychology' 'kenms'\n",
      " 'accounting' 'enm' 'marine science' 'koe' 'banking studies'\n",
      " 'business administration' 'law' 'kirkhs' 'usuluddin' 'taasl' 'engine'\n",
      " 'ala' 'biomedical science' 'benl' 'it' 'cts' 'engin' 'econs' 'mhsc'\n",
      " 'malcom' 'kop' 'human sciences' 'biotechnology' 'communication'\n",
      " 'diploma nursing' 'radiography' 'fiqh fatwa' 'diploma tesl' 'fiqh'\n",
      " 'nursing']\n",
      "Your current year of Study:  ['year 1' 'year 2' 'year 3' 'year 4']\n",
      "What is your CGPA?:  ['3.00 - 3.49' '3.50 - 4.00' '2.50 - 2.99' '2.00 - 2.49' '0 - 1.99']\n"
     ]
    }
   ],
   "source": [
    "print('Choose your gender: ', health_data['Choose your gender'].unique())\n",
    "print('What is your course?: ', health_data['What is your course?'].unique())\n",
    "print('Your current year of Study: ', health_data['Your current year of Study'].unique())\n",
    "print('What is your CGPA?: ', health_data['What is your CGPA?'].unique())"
   ]
  },
  {
   "cell_type": "markdown",
   "id": "c78cd5c6",
   "metadata": {
    "papermill": {
     "duration": 0.006758,
     "end_time": "2023-03-24T03:16:01.090564",
     "exception": false,
     "start_time": "2023-03-24T03:16:01.083806",
     "status": "completed"
    },
    "tags": []
   },
   "source": [
    "## Data Visualizations"
   ]
  },
  {
   "cell_type": "code",
   "execution_count": 9,
   "id": "cee9ce3b",
   "metadata": {
    "execution": {
     "iopub.execute_input": "2023-03-24T03:16:01.104551Z",
     "iopub.status.busy": "2023-03-24T03:16:01.104133Z",
     "iopub.status.idle": "2023-03-24T03:16:01.746557Z",
     "shell.execute_reply": "2023-03-24T03:16:01.745064Z"
    },
    "papermill": {
     "duration": 0.652719,
     "end_time": "2023-03-24T03:16:01.749382",
     "exception": false,
     "start_time": "2023-03-24T03:16:01.096663",
     "status": "completed"
    },
    "tags": []
   },
   "outputs": [
    {
     "data": {
      "text/plain": [
       "<AxesSubplot:title={'center':'cGPA'}>"
      ]
     },
     "execution_count": 9,
     "metadata": {},
     "output_type": "execute_result"
    },
    {
     "data": {
      "image/png": "[encoded data removed]",
      "text/plain": [
       "<Figure size 640x480 with 4 Axes>"
      ]
     },
     "metadata": {},
     "output_type": "display_data"
    }
   ],
   "source": [
    "fig, axes = plt.subplots(nrows=2, ncols=2)\n",
    "fig.tight_layout(pad=5)\n",
    "health_data['Choose your gender'].value_counts().plot(kind='bar', title=\"Gender\", ylabel=\"Number of Students\",ax=axes[0,0])\n",
    "health_data['Marital status'].value_counts().plot(kind='bar', title=\"Married?\", xlabel=\"0 = No, 1 = Yes\", ylabel=\"Number of Students\",ax=axes[1,0])\n",
    "health_data['Your current year of Study'].value_counts().plot(kind='bar', title=\"Year of Study\",ax=axes[0,1])\n",
    "health_data['What is your CGPA?'].value_counts().sort_index().plot(kind='bar', title=\"cGPA\",ax=axes[1,1])\n"
   ]
  },
  {
   "cell_type": "code",
   "execution_count": 10,
   "id": "4a70cdff",
   "metadata": {
    "execution": {
     "iopub.execute_input": "2023-03-24T03:16:01.765626Z",
     "iopub.status.busy": "2023-03-24T03:16:01.765094Z",
     "iopub.status.idle": "2023-03-24T03:16:01.998755Z",
     "shell.execute_reply": "2023-03-24T03:16:01.997788Z"
    },
    "papermill": {
     "duration": 0.244523,
     "end_time": "2023-03-24T03:16:02.001151",
     "exception": false,
     "start_time": "2023-03-24T03:16:01.756628",
     "status": "completed"
    },
    "tags": []
   },
   "outputs": [
    {
     "data": {
      "text/plain": [
       "<AxesSubplot:title={'center':'Age'}>"
      ]
     },
     "execution_count": 10,
     "metadata": {},
     "output_type": "execute_result"
    },
    {
     "data": {
      "image/png": "[encoded data removed]",
      "text/plain": [
       "<Figure size 640x480 with 1 Axes>"
      ]
     },
     "metadata": {},
     "output_type": "display_data"
    }
   ],
   "source": [
    "health_data['Age'].value_counts().sort_index().plot(kind='bar', title=\"Age\")"
   ]
  },
  {
   "cell_type": "code",
   "execution_count": 11,
   "id": "d6f3fe0f",
   "metadata": {
    "execution": {
     "iopub.execute_input": "2023-03-24T03:16:02.017808Z",
     "iopub.status.busy": "2023-03-24T03:16:02.017164Z",
     "iopub.status.idle": "2023-03-24T03:16:02.751104Z",
     "shell.execute_reply": "2023-03-24T03:16:02.750153Z"
    },
    "papermill": {
     "duration": 0.745168,
     "end_time": "2023-03-24T03:16:02.753570",
     "exception": false,
     "start_time": "2023-03-24T03:16:02.008402",
     "status": "completed"
    },
    "tags": []
   },
   "outputs": [
    {
     "data": {
      "text/plain": [
       "<AxesSubplot:title={'center':'Major'}, ylabel='Number of Students'>"
      ]
     },
     "execution_count": 11,
     "metadata": {},
     "output_type": "execute_result"
    },
    {
     "data": {
      "image/png": "[encoded data removed]",
      "text/plain": [
       "<Figure size 640x480 with 1 Axes>"
      ]
     },
     "metadata": {},
     "output_type": "display_data"
    }
   ],
   "source": [
    "health_data['What is your course?'].value_counts().plot(kind='bar', title=\"Major\", ylabel=\"Number of Students\")"
   ]
  },
  {
   "cell_type": "code",
   "execution_count": 12,
   "id": "eb0f2e10",
   "metadata": {
    "execution": {
     "iopub.execute_input": "2023-03-24T03:16:02.772362Z",
     "iopub.status.busy": "2023-03-24T03:16:02.771384Z",
     "iopub.status.idle": "2023-03-24T03:16:03.317097Z",
     "shell.execute_reply": "2023-03-24T03:16:03.315853Z"
    },
    "papermill": {
     "duration": 0.557872,
     "end_time": "2023-03-24T03:16:03.319445",
     "exception": false,
     "start_time": "2023-03-24T03:16:02.761573",
     "status": "completed"
    },
    "tags": []
   },
   "outputs": [
    {
     "data": {
      "text/plain": [
       "<AxesSubplot:title={'center':'Specialist Count'}, xlabel='0 = No, 1 = Yes'>"
      ]
     },
     "execution_count": 12,
     "metadata": {},
     "output_type": "execute_result"
    },
    {
     "data": {
      "image/png": "[encoded data removed]",
      "text/plain": [
       "<Figure size 640x480 with 4 Axes>"
      ]
     },
     "metadata": {},
     "output_type": "display_data"
    }
   ],
   "source": [
    "fig, axes = plt.subplots(nrows=2, ncols=2)\n",
    "fig.tight_layout(pad=2.0)\n",
    "health_data['Do you have Anxiety?'].value_counts().plot(kind='bar', title=\"Anxiety Count\", ylabel=\"Number of Students\",ax=axes[0,0])\n",
    "health_data['Do you have Depression?'].value_counts().plot(kind='bar', title=\"Depression Count\", xlabel=\"0 = No, 1 = Yes\", ylabel=\"Number of Students\",ax=axes[1,0])\n",
    "health_data['Do you have Panic attack?'].value_counts().plot(kind='bar', title=\"Panic Count\",ax=axes[0,1])\n",
    "health_data['Did you seek any specialist for a treatment?'].value_counts().plot(kind='bar', title=\"Specialist Count\", xlabel=\"0 = No, 1 = Yes\",ax=axes[1,1])"
   ]
  },
  {
   "cell_type": "code",
   "execution_count": 13,
   "id": "0fe09029",
   "metadata": {
    "execution": {
     "iopub.execute_input": "2023-03-24T03:16:03.339711Z",
     "iopub.status.busy": "2023-03-24T03:16:03.338821Z",
     "iopub.status.idle": "2023-03-24T03:16:03.365984Z",
     "shell.execute_reply": "2023-03-24T03:16:03.364626Z"
    },
    "papermill": {
     "duration": 0.040508,
     "end_time": "2023-03-24T03:16:03.368814",
     "exception": false,
     "start_time": "2023-03-24T03:16:03.328306",
     "status": "completed"
    },
    "tags": []
   },
   "outputs": [],
   "source": [
    "# one hot encoding\n",
    "health_data['Do you have Depression?'].replace(['Yes', 'No'],\n",
    "                        [1,0], inplace=True)\n",
    "health_data['Do you have Anxiety?'].replace(['Yes', 'No'],\n",
    "                        [1,0], inplace=True)\n",
    "health_data['Do you have Panic attack?'].replace(['Yes', 'No'],\n",
    "                        [1,0], inplace=True)\n",
    "health_data['Did you seek any specialist for a treatment?'].replace(['Yes', 'No'],\n",
    "                        [1,0], inplace=True)\n",
    "health_data['Marital status'].replace(['Yes', 'No'],\n",
    "                        [1,0], inplace=True)\n",
    "health_data['Choose your gender'].replace(['female', 'male'],\n",
    "                        [1,0], inplace=True)\n",
    "health_data['Your current year of Study'].replace(['year 1', 'year 2', 'year 3', 'year 4'],\n",
    "                        [0,1,2,3], inplace=True)\n",
    "health_data['What is your CGPA?'].replace([ '0 - 1.99','2.50 - 2.99', '2.00 - 2.49', '3.00 - 3.49', '3.50 - 4.00'],\n",
    "                        [0,1,2,3,4], inplace=True)\n",
    "health_data['What is your course?'].replace([ 'engineering', 'islamic education', 'bit', 'laws', 'mathemathics',\n",
    " 'pendidikan islam', 'bcs', 'human resources', 'irkhs', 'psychology', 'kenms',\n",
    " 'accounting', 'enm', 'marine science', 'koe', 'banking studies',\n",
    " 'business administration', 'law', 'kirkhs', 'usuluddin', 'taasl', 'engine',\n",
    " 'ala', 'biomedical science', 'benl', 'it', 'cts', 'engin', 'econs', 'mhsc',\n",
    " 'malcom', 'kop', 'human sciences', 'biotechnology', 'communication',\n",
    " 'diploma nursing', 'radiography', 'fiqh fatwa', 'diploma tesl', 'fiqh',\n",
    " 'nursing'],\n",
    "[0,1,2,3,4,5,6,7,8,9,10,11,12,13,14,15,16,17,18,19,20,21,22,23,24,25,26,27,28,29,30,31,32,33,34,35,36,37,38,39,40], inplace=True)"
   ]
  },
  {
   "cell_type": "markdown",
   "id": "88e2200a",
   "metadata": {
    "papermill": {
     "duration": 0.008493,
     "end_time": "2023-03-24T03:16:03.386706",
     "exception": false,
     "start_time": "2023-03-24T03:16:03.378213",
     "status": "completed"
    },
    "tags": []
   },
   "source": [
    "## Modelling"
   ]
  },
  {
   "cell_type": "code",
   "execution_count": 14,
   "id": "94812c0f",
   "metadata": {
    "execution": {
     "iopub.execute_input": "2023-03-24T03:16:03.406382Z",
     "iopub.status.busy": "2023-03-24T03:16:03.405914Z",
     "iopub.status.idle": "2023-03-24T03:16:04.460365Z",
     "shell.execute_reply": "2023-03-24T03:16:04.458736Z"
    },
    "papermill": {
     "duration": 1.067693,
     "end_time": "2023-03-24T03:16:04.463207",
     "exception": false,
     "start_time": "2023-03-24T03:16:03.395514",
     "status": "completed"
    },
    "tags": []
   },
   "outputs": [
    {
     "name": "stdout",
     "output_type": "stream",
     "text": [
      "Validation MAE : 0.38000\n"
     ]
    }
   ],
   "source": [
    "# Modelling\n",
    "from sklearn.metrics import mean_absolute_error\n",
    "from sklearn.model_selection import train_test_split\n",
    "from sklearn.tree import DecisionTreeRegressor\n",
    "from sklearn.ensemble import RandomForestRegressor\n",
    "\n",
    "#target\n",
    "target = ['Do you have Anxiety?']\n",
    "y = health_data[target]\n",
    "\n",
    "#features\n",
    "features = ['Choose your gender', 'Age', 'Marital status', 'What is your course?', 'Your current year of Study', 'What is your CGPA?']\n",
    "X = health_data[features]\n",
    "\n",
    "# Split into validation and training\n",
    "train_X, val_X, train_y, val_y = train_test_split(X, y, random_state=1)\n",
    "\n",
    "# Decision Tree\n",
    "health_model = DecisionTreeRegressor(random_state=1)\n",
    "\n",
    "# Fit Model\n",
    "health_model.fit(train_X, train_y)\n",
    "\n",
    "# Make validation predictions and calculate mean absolute error\n",
    "val_predictions = health_model.predict(val_X)\n",
    "val_mae = mean_absolute_error(val_predictions, val_y)\n",
    "print(\"Validation MAE : {:,.5f}\".format(val_mae))\n"
   ]
  }
 ],
 "metadata": {
  "kernelspec": {
   "display_name": "Python 3",
   "language": "python",
   "name": "python3"
  },
  "language_info": {
   "codemirror_mode": {
    "name": "ipython",
    "version": 3
   },
   "file_extension": ".py",
   "mimetype": "text/x-python",
   "name": "python",
   "nbconvert_exporter": "python",
   "pygments_lexer": "ipython3",
   "version": "3.7.12"
  },
  "papermill": {
   "default_parameters": {},
   "duration": 14.188642,
   "end_time": "2023-03-24T03:16:05.294700",
   "environment_variables": {},
   "exception": null,
   "input_path": "__notebook__.ipynb",
   "output_path": "__notebook__.ipynb",
   "parameters": {},
   "start_time": "2023-03-24T03:15:51.106058",
   "version": "2.4.0"
  }
 },
 "nbformat": 4,
 "nbformat_minor": 5
}
