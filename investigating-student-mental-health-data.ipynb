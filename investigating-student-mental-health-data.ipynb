{
 "cells": [
  {
   "cell_type": "markdown",
   "id": "190db562",
   "metadata": {
    "papermill": {
     "duration": 0.00525,
     "end_time": "2023-03-19T04:30:17.789414",
     "exception": false,
     "start_time": "2023-03-19T04:30:17.784164",
     "status": "completed"
    },
    "tags": []
   },
   "source": [
    "## Initial Setup"
   ]
  },
  {
   "cell_type": "code",
   "execution_count": 1,
   "id": "194e4c8d",
   "metadata": {
    "_cell_guid": "b1076dfc-b9ad-4769-8c92-a6c4dae69d19",
    "_uuid": "8f2839f25d086af736a60e9eeb907d3b93b6e0e5",
    "execution": {
     "iopub.execute_input": "2023-03-19T04:30:17.799216Z",
     "iopub.status.busy": "2023-03-19T04:30:17.798745Z",
     "iopub.status.idle": "2023-03-19T04:30:17.821794Z",
     "shell.execute_reply": "2023-03-19T04:30:17.820650Z"
    },
    "papermill": {
     "duration": 0.031317,
     "end_time": "2023-03-19T04:30:17.824686",
     "exception": false,
     "start_time": "2023-03-19T04:30:17.793369",
     "status": "completed"
    },
    "tags": []
   },
   "outputs": [
    {
     "name": "stdout",
     "output_type": "stream",
     "text": [
      "/kaggle/input/student-mental-health/Student Mental health.csv\n"
     ]
    }
   ],
   "source": [
    "# This Python 3 environment comes with many helpful analytics libraries installed\n",
    "# It is defined by the kaggle/python Docker image: https://github.com/kaggle/docker-python\n",
    "# For example, here's several helpful packages to load\n",
    "\n",
    "import numpy as np # linear algebra\n",
    "import pandas as pd # data processing, CSV file I/O (e.g. pd.read_csv)\n",
    "\n",
    "# Input data files are available in the read-only \"../input/\" directory\n",
    "# For example, running this (by clicking run or pressing Shift+Enter) will list all files under the input directory\n",
    "\n",
    "import os\n",
    "for dirname, _, filenames in os.walk('/kaggle/input'):\n",
    "    for filename in filenames:\n",
    "        print(os.path.join(dirname, filename))\n",
    "\n",
    "# You can write up to 20GB to the current directory (/kaggle/working/) that gets preserved as output when you create a version using \"Save & Run All\" \n",
    "# You can also write temporary files to /kaggle/temp/, but they won't be saved outside of the current session"
   ]
  },
  {
   "cell_type": "code",
   "execution_count": 2,
   "id": "c4a0129f",
   "metadata": {
    "execution": {
     "iopub.execute_input": "2023-03-19T04:30:17.835218Z",
     "iopub.status.busy": "2023-03-19T04:30:17.834403Z",
     "iopub.status.idle": "2023-03-19T04:30:17.854694Z",
     "shell.execute_reply": "2023-03-19T04:30:17.853522Z"
    },
    "papermill": {
     "duration": 0.028806,
     "end_time": "2023-03-19T04:30:17.857562",
     "exception": false,
     "start_time": "2023-03-19T04:30:17.828756",
     "status": "completed"
    },
    "tags": []
   },
   "outputs": [],
   "source": [
    "file_path = '../input/student-mental-health/Student Mental health.csv'\n",
    "health_data = pd.read_csv(file_path)"
   ]
  },
  {
   "cell_type": "markdown",
   "id": "006c1728",
   "metadata": {
    "papermill": {
     "duration": 0.003561,
     "end_time": "2023-03-19T04:30:17.865107",
     "exception": false,
     "start_time": "2023-03-19T04:30:17.861546",
     "status": "completed"
    },
    "tags": []
   },
   "source": [
    "## Data Exploration"
   ]
  },
  {
   "cell_type": "code",
   "execution_count": 3,
   "id": "c30b18a8",
   "metadata": {
    "execution": {
     "iopub.execute_input": "2023-03-19T04:30:17.875376Z",
     "iopub.status.busy": "2023-03-19T04:30:17.874329Z",
     "iopub.status.idle": "2023-03-19T04:30:17.909637Z",
     "shell.execute_reply": "2023-03-19T04:30:17.908425Z"
    },
    "papermill": {
     "duration": 0.043327,
     "end_time": "2023-03-19T04:30:17.912227",
     "exception": false,
     "start_time": "2023-03-19T04:30:17.868900",
     "status": "completed"
    },
    "tags": []
   },
   "outputs": [
    {
     "data": {
      "text/html": [
       "<div>\n",
       "<style scoped>\n",
       "    .dataframe tbody tr th:only-of-type {\n",
       "        vertical-align: middle;\n",
       "    }\n",
       "\n",
       "    .dataframe tbody tr th {\n",
       "        vertical-align: top;\n",
       "    }\n",
       "\n",
       "    .dataframe thead th {\n",
       "        text-align: right;\n",
       "    }\n",
       "</style>\n",
       "<table border=\"1\" class=\"dataframe\">\n",
       "  <thead>\n",
       "    <tr style=\"text-align: right;\">\n",
       "      <th></th>\n",
       "      <th>Timestamp</th>\n",
       "      <th>Choose your gender</th>\n",
       "      <th>Age</th>\n",
       "      <th>What is your course?</th>\n",
       "      <th>Your current year of Study</th>\n",
       "      <th>What is your CGPA?</th>\n",
       "      <th>Marital status</th>\n",
       "      <th>Do you have Depression?</th>\n",
       "      <th>Do you have Anxiety?</th>\n",
       "      <th>Do you have Panic attack?</th>\n",
       "      <th>Did you seek any specialist for a treatment?</th>\n",
       "    </tr>\n",
       "  </thead>\n",
       "  <tbody>\n",
       "    <tr>\n",
       "      <th>0</th>\n",
       "      <td>8/7/2020 12:02</td>\n",
       "      <td>Female</td>\n",
       "      <td>18.0</td>\n",
       "      <td>Engineering</td>\n",
       "      <td>year 1</td>\n",
       "      <td>3.00 - 3.49</td>\n",
       "      <td>No</td>\n",
       "      <td>Yes</td>\n",
       "      <td>No</td>\n",
       "      <td>Yes</td>\n",
       "      <td>No</td>\n",
       "    </tr>\n",
       "    <tr>\n",
       "      <th>1</th>\n",
       "      <td>8/7/2020 12:04</td>\n",
       "      <td>Male</td>\n",
       "      <td>21.0</td>\n",
       "      <td>Islamic education</td>\n",
       "      <td>year 2</td>\n",
       "      <td>3.00 - 3.49</td>\n",
       "      <td>No</td>\n",
       "      <td>No</td>\n",
       "      <td>Yes</td>\n",
       "      <td>No</td>\n",
       "      <td>No</td>\n",
       "    </tr>\n",
       "    <tr>\n",
       "      <th>2</th>\n",
       "      <td>8/7/2020 12:05</td>\n",
       "      <td>Male</td>\n",
       "      <td>19.0</td>\n",
       "      <td>BIT</td>\n",
       "      <td>Year 1</td>\n",
       "      <td>3.00 - 3.49</td>\n",
       "      <td>No</td>\n",
       "      <td>Yes</td>\n",
       "      <td>Yes</td>\n",
       "      <td>Yes</td>\n",
       "      <td>No</td>\n",
       "    </tr>\n",
       "    <tr>\n",
       "      <th>3</th>\n",
       "      <td>8/7/2020 12:06</td>\n",
       "      <td>Female</td>\n",
       "      <td>22.0</td>\n",
       "      <td>Laws</td>\n",
       "      <td>year 3</td>\n",
       "      <td>3.00 - 3.49</td>\n",
       "      <td>Yes</td>\n",
       "      <td>Yes</td>\n",
       "      <td>No</td>\n",
       "      <td>No</td>\n",
       "      <td>No</td>\n",
       "    </tr>\n",
       "    <tr>\n",
       "      <th>4</th>\n",
       "      <td>8/7/2020 12:13</td>\n",
       "      <td>Male</td>\n",
       "      <td>23.0</td>\n",
       "      <td>Mathemathics</td>\n",
       "      <td>year 4</td>\n",
       "      <td>3.00 - 3.49</td>\n",
       "      <td>No</td>\n",
       "      <td>No</td>\n",
       "      <td>No</td>\n",
       "      <td>No</td>\n",
       "      <td>No</td>\n",
       "    </tr>\n",
       "  </tbody>\n",
       "</table>\n",
       "</div>"
      ],
      "text/plain": [
       "        Timestamp Choose your gender   Age What is your course?  \\\n",
       "0  8/7/2020 12:02             Female  18.0          Engineering   \n",
       "1  8/7/2020 12:04               Male  21.0    Islamic education   \n",
       "2  8/7/2020 12:05               Male  19.0                  BIT   \n",
       "3  8/7/2020 12:06             Female  22.0                 Laws   \n",
       "4  8/7/2020 12:13               Male  23.0         Mathemathics   \n",
       "\n",
       "  Your current year of Study What is your CGPA? Marital status  \\\n",
       "0                     year 1        3.00 - 3.49             No   \n",
       "1                     year 2        3.00 - 3.49             No   \n",
       "2                     Year 1        3.00 - 3.49             No   \n",
       "3                     year 3        3.00 - 3.49            Yes   \n",
       "4                     year 4        3.00 - 3.49             No   \n",
       "\n",
       "  Do you have Depression? Do you have Anxiety? Do you have Panic attack?  \\\n",
       "0                     Yes                   No                       Yes   \n",
       "1                      No                  Yes                        No   \n",
       "2                     Yes                  Yes                       Yes   \n",
       "3                     Yes                   No                        No   \n",
       "4                      No                   No                        No   \n",
       "\n",
       "  Did you seek any specialist for a treatment?  \n",
       "0                                           No  \n",
       "1                                           No  \n",
       "2                                           No  \n",
       "3                                           No  \n",
       "4                                           No  "
      ]
     },
     "execution_count": 3,
     "metadata": {},
     "output_type": "execute_result"
    }
   ],
   "source": [
    "# summary of data\n",
    "health_data.head()"
   ]
  },
  {
   "cell_type": "code",
   "execution_count": 4,
   "id": "cb95f7e3",
   "metadata": {
    "execution": {
     "iopub.execute_input": "2023-03-19T04:30:17.923148Z",
     "iopub.status.busy": "2023-03-19T04:30:17.922233Z",
     "iopub.status.idle": "2023-03-19T04:30:17.941941Z",
     "shell.execute_reply": "2023-03-19T04:30:17.940282Z"
    },
    "papermill": {
     "duration": 0.029934,
     "end_time": "2023-03-19T04:30:17.946327",
     "exception": false,
     "start_time": "2023-03-19T04:30:17.916393",
     "status": "completed"
    },
    "tags": []
   },
   "outputs": [
    {
     "name": "stdout",
     "output_type": "stream",
     "text": [
      "Choose your gender:  ['Female' 'Male']\n",
      "What is your course?:  ['Engineering' 'Islamic education' 'BIT' 'Laws' 'Mathemathics'\n",
      " 'Pendidikan islam' 'BCS' 'Human Resources' 'Irkhs' 'Psychology' 'KENMS'\n",
      " 'Accounting ' 'ENM' 'Marine science' 'KOE' 'Banking Studies'\n",
      " 'Business Administration' 'Law' 'KIRKHS' 'Usuluddin ' 'TAASL' 'Engine'\n",
      " 'ALA' 'Biomedical science' 'koe' 'Kirkhs' 'BENL' 'Benl' 'IT' 'CTS'\n",
      " 'engin' 'Econs' 'MHSC' 'Malcom' 'Kop' 'Human Sciences ' 'Biotechnology'\n",
      " 'Communication ' 'Diploma Nursing' 'Pendidikan Islam ' 'Radiography'\n",
      " 'psychology' 'Fiqh fatwa ' 'DIPLOMA TESL' 'Koe' 'Fiqh'\n",
      " 'Islamic Education' 'Nursing ' 'Pendidikan Islam']\n",
      "Your current year of Study:  ['year 1' 'year 2' 'Year 1' 'year 3' 'year 4' 'Year 2' 'Year 3']\n",
      "What is your CGPA?:  ['3.00 - 3.49' '3.50 - 4.00' '3.50 - 4.00 ' '2.50 - 2.99' '2.00 - 2.49'\n",
      " '0 - 1.99']\n",
      "Do you have Depression?:  ['Yes' 'No']\n",
      "Do you have Anxiety?:  ['No' 'Yes']\n",
      "Do you have Panic attack?:  ['Yes' 'No']\n",
      "Did you seek any specialist for a treatment?:  ['No' 'Yes']\n",
      "Marital status:  ['No' 'Yes']\n"
     ]
    }
   ],
   "source": [
    "# finding all avalible options for each column\n",
    "print('Choose your gender: ', health_data['Choose your gender'].unique())\n",
    "print('What is your course?: ', health_data['What is your course?'].unique())\n",
    "print('Your current year of Study: ', health_data['Your current year of Study'].unique())\n",
    "print('What is your CGPA?: ', health_data['What is your CGPA?'].unique())\n",
    "\n",
    "print('Do you have Depression?: ', health_data['Do you have Depression?'].unique())\n",
    "print('Do you have Anxiety?: ', health_data['Do you have Anxiety?'].unique())\n",
    "print('Do you have Panic attack?: ', health_data['Do you have Panic attack?'].unique())\n",
    "print('Did you seek any specialist for a treatment?: ', health_data['Did you seek any specialist for a treatment?'].unique())\n",
    "print('Marital status: ', health_data['Marital status'].unique())"
   ]
  },
  {
   "cell_type": "code",
   "execution_count": 5,
   "id": "1965ff5a",
   "metadata": {
    "execution": {
     "iopub.execute_input": "2023-03-19T04:30:17.957537Z",
     "iopub.status.busy": "2023-03-19T04:30:17.956626Z",
     "iopub.status.idle": "2023-03-19T04:30:17.969491Z",
     "shell.execute_reply": "2023-03-19T04:30:17.968337Z"
    },
    "papermill": {
     "duration": 0.021507,
     "end_time": "2023-03-19T04:30:17.972320",
     "exception": false,
     "start_time": "2023-03-19T04:30:17.950813",
     "status": "completed"
    },
    "tags": []
   },
   "outputs": [],
   "source": [
    "# creating binary variables\n",
    "health_data['Do you have Depression?'].replace(['Yes', 'No'],\n",
    "                        [1,0], inplace=True)\n",
    "health_data['Do you have Anxiety?'].replace(['Yes', 'No'],\n",
    "                        [1,0], inplace=True)\n",
    "health_data['Do you have Panic attack?'].replace(['Yes', 'No'],\n",
    "                        [1,0], inplace=True)\n",
    "health_data['Did you seek any specialist for a treatment?'].replace(['Yes', 'No'],\n",
    "                        [1,0], inplace=True)\n",
    "health_data['Marital status'].replace(['Yes', 'No'],\n",
    "                        [1,0], inplace=True)"
   ]
  },
  {
   "cell_type": "code",
   "execution_count": 6,
   "id": "b7b673e6",
   "metadata": {
    "execution": {
     "iopub.execute_input": "2023-03-19T04:30:17.982908Z",
     "iopub.status.busy": "2023-03-19T04:30:17.982161Z",
     "iopub.status.idle": "2023-03-19T04:30:18.024868Z",
     "shell.execute_reply": "2023-03-19T04:30:18.023370Z"
    },
    "papermill": {
     "duration": 0.051403,
     "end_time": "2023-03-19T04:30:18.027962",
     "exception": false,
     "start_time": "2023-03-19T04:30:17.976559",
     "status": "completed"
    },
    "tags": []
   },
   "outputs": [
    {
     "data": {
      "text/html": [
       "<div>\n",
       "<style scoped>\n",
       "    .dataframe tbody tr th:only-of-type {\n",
       "        vertical-align: middle;\n",
       "    }\n",
       "\n",
       "    .dataframe tbody tr th {\n",
       "        vertical-align: top;\n",
       "    }\n",
       "\n",
       "    .dataframe thead th {\n",
       "        text-align: right;\n",
       "    }\n",
       "</style>\n",
       "<table border=\"1\" class=\"dataframe\">\n",
       "  <thead>\n",
       "    <tr style=\"text-align: right;\">\n",
       "      <th></th>\n",
       "      <th>Age</th>\n",
       "      <th>Marital status</th>\n",
       "      <th>Do you have Depression?</th>\n",
       "      <th>Do you have Anxiety?</th>\n",
       "      <th>Do you have Panic attack?</th>\n",
       "      <th>Did you seek any specialist for a treatment?</th>\n",
       "    </tr>\n",
       "  </thead>\n",
       "  <tbody>\n",
       "    <tr>\n",
       "      <th>count</th>\n",
       "      <td>100.00000</td>\n",
       "      <td>101.000000</td>\n",
       "      <td>101.000000</td>\n",
       "      <td>101.000000</td>\n",
       "      <td>101.000000</td>\n",
       "      <td>101.000000</td>\n",
       "    </tr>\n",
       "    <tr>\n",
       "      <th>mean</th>\n",
       "      <td>20.53000</td>\n",
       "      <td>0.158416</td>\n",
       "      <td>0.346535</td>\n",
       "      <td>0.336634</td>\n",
       "      <td>0.326733</td>\n",
       "      <td>0.059406</td>\n",
       "    </tr>\n",
       "    <tr>\n",
       "      <th>std</th>\n",
       "      <td>2.49628</td>\n",
       "      <td>0.366952</td>\n",
       "      <td>0.478239</td>\n",
       "      <td>0.474915</td>\n",
       "      <td>0.471358</td>\n",
       "      <td>0.237562</td>\n",
       "    </tr>\n",
       "    <tr>\n",
       "      <th>min</th>\n",
       "      <td>18.00000</td>\n",
       "      <td>0.000000</td>\n",
       "      <td>0.000000</td>\n",
       "      <td>0.000000</td>\n",
       "      <td>0.000000</td>\n",
       "      <td>0.000000</td>\n",
       "    </tr>\n",
       "    <tr>\n",
       "      <th>25%</th>\n",
       "      <td>18.00000</td>\n",
       "      <td>0.000000</td>\n",
       "      <td>0.000000</td>\n",
       "      <td>0.000000</td>\n",
       "      <td>0.000000</td>\n",
       "      <td>0.000000</td>\n",
       "    </tr>\n",
       "    <tr>\n",
       "      <th>50%</th>\n",
       "      <td>19.00000</td>\n",
       "      <td>0.000000</td>\n",
       "      <td>0.000000</td>\n",
       "      <td>0.000000</td>\n",
       "      <td>0.000000</td>\n",
       "      <td>0.000000</td>\n",
       "    </tr>\n",
       "    <tr>\n",
       "      <th>75%</th>\n",
       "      <td>23.00000</td>\n",
       "      <td>0.000000</td>\n",
       "      <td>1.000000</td>\n",
       "      <td>1.000000</td>\n",
       "      <td>1.000000</td>\n",
       "      <td>0.000000</td>\n",
       "    </tr>\n",
       "    <tr>\n",
       "      <th>max</th>\n",
       "      <td>24.00000</td>\n",
       "      <td>1.000000</td>\n",
       "      <td>1.000000</td>\n",
       "      <td>1.000000</td>\n",
       "      <td>1.000000</td>\n",
       "      <td>1.000000</td>\n",
       "    </tr>\n",
       "  </tbody>\n",
       "</table>\n",
       "</div>"
      ],
      "text/plain": [
       "             Age  Marital status  Do you have Depression?  \\\n",
       "count  100.00000      101.000000               101.000000   \n",
       "mean    20.53000        0.158416                 0.346535   \n",
       "std      2.49628        0.366952                 0.478239   \n",
       "min     18.00000        0.000000                 0.000000   \n",
       "25%     18.00000        0.000000                 0.000000   \n",
       "50%     19.00000        0.000000                 0.000000   \n",
       "75%     23.00000        0.000000                 1.000000   \n",
       "max     24.00000        1.000000                 1.000000   \n",
       "\n",
       "       Do you have Anxiety?  Do you have Panic attack?  \\\n",
       "count            101.000000                 101.000000   \n",
       "mean               0.336634                   0.326733   \n",
       "std                0.474915                   0.471358   \n",
       "min                0.000000                   0.000000   \n",
       "25%                0.000000                   0.000000   \n",
       "50%                0.000000                   0.000000   \n",
       "75%                1.000000                   1.000000   \n",
       "max                1.000000                   1.000000   \n",
       "\n",
       "       Did you seek any specialist for a treatment?  \n",
       "count                                    101.000000  \n",
       "mean                                       0.059406  \n",
       "std                                        0.237562  \n",
       "min                                        0.000000  \n",
       "25%                                        0.000000  \n",
       "50%                                        0.000000  \n",
       "75%                                        0.000000  \n",
       "max                                        1.000000  "
      ]
     },
     "execution_count": 6,
     "metadata": {},
     "output_type": "execute_result"
    }
   ],
   "source": [
    "# describing data\n",
    "health_data.describe()"
   ]
  },
  {
   "cell_type": "markdown",
   "id": "74a942a1",
   "metadata": {
    "papermill": {
     "duration": 0.004181,
     "end_time": "2023-03-19T04:30:18.036771",
     "exception": false,
     "start_time": "2023-03-19T04:30:18.032590",
     "status": "completed"
    },
    "tags": []
   },
   "source": [
    "## Data Cleaning"
   ]
  },
  {
   "cell_type": "code",
   "execution_count": 7,
   "id": "dd4c1625",
   "metadata": {
    "execution": {
     "iopub.execute_input": "2023-03-19T04:30:18.048483Z",
     "iopub.status.busy": "2023-03-19T04:30:18.048000Z",
     "iopub.status.idle": "2023-03-19T04:30:18.057771Z",
     "shell.execute_reply": "2023-03-19T04:30:18.056361Z"
    },
    "papermill": {
     "duration": 0.018836,
     "end_time": "2023-03-19T04:30:18.060620",
     "exception": false,
     "start_time": "2023-03-19T04:30:18.041784",
     "status": "completed"
    },
    "tags": []
   },
   "outputs": [],
   "source": [
    "# lowercase\n",
    "health_data['Choose your gender'] = health_data['Choose your gender'].str.lower()\n",
    "health_data['What is your course?'] = health_data['What is your course?'].str.lower()\n",
    "health_data['Your current year of Study'] = health_data['Your current year of Study'].str.lower()\n",
    "health_data['What is your CGPA?'] = health_data['What is your CGPA?'].str.lower()"
   ]
  },
  {
   "cell_type": "code",
   "execution_count": 8,
   "id": "bd7a281e",
   "metadata": {
    "execution": {
     "iopub.execute_input": "2023-03-19T04:30:18.071620Z",
     "iopub.status.busy": "2023-03-19T04:30:18.071157Z",
     "iopub.status.idle": "2023-03-19T04:30:18.080718Z",
     "shell.execute_reply": "2023-03-19T04:30:18.079129Z"
    },
    "papermill": {
     "duration": 0.01867,
     "end_time": "2023-03-19T04:30:18.083801",
     "exception": false,
     "start_time": "2023-03-19T04:30:18.065131",
     "status": "completed"
    },
    "tags": []
   },
   "outputs": [],
   "source": [
    "# trim whitespace\n",
    "health_data['Choose your gender'] = health_data['Choose your gender'].str.strip()\n",
    "health_data['What is your course?'] = health_data['What is your course?'].str.strip()\n",
    "health_data['Your current year of Study'] = health_data['Your current year of Study'].str.strip()\n",
    "health_data['What is your CGPA?'] = health_data['What is your CGPA?'].str.strip()"
   ]
  },
  {
   "cell_type": "code",
   "execution_count": 9,
   "id": "4592ffaa",
   "metadata": {
    "execution": {
     "iopub.execute_input": "2023-03-19T04:30:18.095825Z",
     "iopub.status.busy": "2023-03-19T04:30:18.095335Z",
     "iopub.status.idle": "2023-03-19T04:30:18.105801Z",
     "shell.execute_reply": "2023-03-19T04:30:18.103582Z"
    },
    "papermill": {
     "duration": 0.020052,
     "end_time": "2023-03-19T04:30:18.109174",
     "exception": false,
     "start_time": "2023-03-19T04:30:18.089122",
     "status": "completed"
    },
    "tags": []
   },
   "outputs": [
    {
     "name": "stdout",
     "output_type": "stream",
     "text": [
      "Choose your gender:  ['female' 'male']\n",
      "What is your course?:  ['engineering' 'islamic education' 'bit' 'laws' 'mathemathics'\n",
      " 'pendidikan islam' 'bcs' 'human resources' 'irkhs' 'psychology' 'kenms'\n",
      " 'accounting' 'enm' 'marine science' 'koe' 'banking studies'\n",
      " 'business administration' 'law' 'kirkhs' 'usuluddin' 'taasl' 'engine'\n",
      " 'ala' 'biomedical science' 'benl' 'it' 'cts' 'engin' 'econs' 'mhsc'\n",
      " 'malcom' 'kop' 'human sciences' 'biotechnology' 'communication'\n",
      " 'diploma nursing' 'radiography' 'fiqh fatwa' 'diploma tesl' 'fiqh'\n",
      " 'nursing']\n",
      "Your current year of Study:  ['year 1' 'year 2' 'year 3' 'year 4']\n",
      "What is your CGPA?:  ['3.00 - 3.49' '3.50 - 4.00' '2.50 - 2.99' '2.00 - 2.49' '0 - 1.99']\n"
     ]
    }
   ],
   "source": [
    "print('Choose your gender: ', health_data['Choose your gender'].unique())\n",
    "print('What is your course?: ', health_data['What is your course?'].unique())\n",
    "print('Your current year of Study: ', health_data['Your current year of Study'].unique())\n",
    "print('What is your CGPA?: ', health_data['What is your CGPA?'].unique())"
   ]
  }
 ],
 "metadata": {
  "kernelspec": {
   "display_name": "Python 3",
   "language": "python",
   "name": "python3"
  },
  "language_info": {
   "codemirror_mode": {
    "name": "ipython",
    "version": 3
   },
   "file_extension": ".py",
   "mimetype": "text/x-python",
   "name": "python",
   "nbconvert_exporter": "python",
   "pygments_lexer": "ipython3",
   "version": "3.7.12"
  },
  "papermill": {
   "default_parameters": {},
   "duration": 12.526793,
   "end_time": "2023-03-19T04:30:18.837191",
   "environment_variables": {},
   "exception": null,
   "input_path": "__notebook__.ipynb",
   "output_path": "__notebook__.ipynb",
   "parameters": {},
   "start_time": "2023-03-19T04:30:06.310398",
   "version": "2.4.0"
  }
 },
 "nbformat": 4,
 "nbformat_minor": 5
}
