{
 "cells": [
  {
   "cell_type": "markdown",
   "id": "12a6b394",
   "metadata": {
    "papermill": {
     "duration": 0.006262,
     "end_time": "2023-03-21T02:06:02.347865",
     "exception": false,
     "start_time": "2023-03-21T02:06:02.341603",
     "status": "completed"
    },
    "tags": []
   },
   "source": [
    "## Overview"
   ]
  },
  {
   "cell_type": "markdown",
   "id": "43f352ed",
   "metadata": {
    "papermill": {
     "duration": 0.007574,
     "end_time": "2023-03-21T02:06:02.362698",
     "exception": false,
     "start_time": "2023-03-21T02:06:02.355124",
     "status": "completed"
    },
    "tags": []
   },
   "source": [
    "This is a data science project to investigate the features (e.g. year of study, major, gender, etc.) that most likely lead to anxiety. As a student myself, I know mental health is a big issue post-secondary institutions try to tackle. While mental health is different for everyone, it could give insight into which combination of characteristics would lead to the most anxiety-inducing experience at university.\n",
    "\n",
    "Credit: Dataset created by MD Shariful Islam, collected from the International Islamic University Malaysia"
   ]
  },
  {
   "cell_type": "markdown",
   "id": "d3cef10c",
   "metadata": {
    "papermill": {
     "duration": 0.005302,
     "end_time": "2023-03-21T02:06:02.376125",
     "exception": false,
     "start_time": "2023-03-21T02:06:02.370823",
     "status": "completed"
    },
    "tags": []
   },
   "source": [
    "## Initial Setup"
   ]
  },
  {
   "cell_type": "code",
   "execution_count": 1,
   "id": "06ef9256",
   "metadata": {
    "_cell_guid": "b1076dfc-b9ad-4769-8c92-a6c4dae69d19",
    "_uuid": "8f2839f25d086af736a60e9eeb907d3b93b6e0e5",
    "execution": {
     "iopub.execute_input": "2023-03-21T02:06:02.396457Z",
     "iopub.status.busy": "2023-03-21T02:06:02.395465Z",
     "iopub.status.idle": "2023-03-21T02:06:02.424898Z",
     "shell.execute_reply": "2023-03-21T02:06:02.423455Z"
    },
    "papermill": {
     "duration": 0.045061,
     "end_time": "2023-03-21T02:06:02.429207",
     "exception": false,
     "start_time": "2023-03-21T02:06:02.384146",
     "status": "completed"
    },
    "tags": []
   },
   "outputs": [
    {
     "name": "stdout",
     "output_type": "stream",
     "text": [
      "/kaggle/input/student-mental-health/Student Mental health.csv\n"
     ]
    }
   ],
   "source": [
    "# This Python 3 environment comes with many helpful analytics libraries installed\n",
    "# It is defined by the kaggle/python Docker image: https://github.com/kaggle/docker-python\n",
    "# For example, here's several helpful packages to load\n",
    "\n",
    "import numpy as np # linear algebra\n",
    "import pandas as pd # data processing, CSV file I/O (e.g. pd.read_csv)\n",
    "import matplotlib.pyplot as plt\n",
    "\n",
    "# Input data files are available in the read-only \"../input/\" directory\n",
    "# For example, running this (by clicking run or pressing Shift+Enter) will list all files under the input directory\n",
    "\n",
    "import os\n",
    "for dirname, _, filenames in os.walk('/kaggle/input'):\n",
    "    for filename in filenames:\n",
    "        print(os.path.join(dirname, filename))\n",
    "\n",
    "# You can write up to 20GB to the current directory (/kaggle/working/) that gets preserved as output when you create a version using \"Save & Run All\" \n",
    "# You can also write temporary files to /kaggle/temp/, but they won't be saved outside of the current session"
   ]
  },
  {
   "cell_type": "code",
   "execution_count": 2,
   "id": "7b985e26",
   "metadata": {
    "execution": {
     "iopub.execute_input": "2023-03-21T02:06:02.445954Z",
     "iopub.status.busy": "2023-03-21T02:06:02.445143Z",
     "iopub.status.idle": "2023-03-21T02:06:02.462005Z",
     "shell.execute_reply": "2023-03-21T02:06:02.460763Z"
    },
    "papermill": {
     "duration": 0.028148,
     "end_time": "2023-03-21T02:06:02.464878",
     "exception": false,
     "start_time": "2023-03-21T02:06:02.436730",
     "status": "completed"
    },
    "tags": []
   },
   "outputs": [],
   "source": [
    "file_path = '../input/student-mental-health/Student Mental health.csv'\n",
    "health_data = pd.read_csv(file_path)"
   ]
  },
  {
   "cell_type": "markdown",
   "id": "e0254dda",
   "metadata": {
    "papermill": {
     "duration": 0.005061,
     "end_time": "2023-03-21T02:06:02.475208",
     "exception": false,
     "start_time": "2023-03-21T02:06:02.470147",
     "status": "completed"
    },
    "tags": []
   },
   "source": [
    "## Data Exploration"
   ]
  },
  {
   "cell_type": "code",
   "execution_count": 3,
   "id": "7b3bffa9",
   "metadata": {
    "execution": {
     "iopub.execute_input": "2023-03-21T02:06:02.488385Z",
     "iopub.status.busy": "2023-03-21T02:06:02.487274Z",
     "iopub.status.idle": "2023-03-21T02:06:02.520090Z",
     "shell.execute_reply": "2023-03-21T02:06:02.518592Z"
    },
    "papermill": {
     "duration": 0.04242,
     "end_time": "2023-03-21T02:06:02.522847",
     "exception": false,
     "start_time": "2023-03-21T02:06:02.480427",
     "status": "completed"
    },
    "tags": []
   },
   "outputs": [
    {
     "data": {
      "text/html": [
       "<div>\n",
       "<style scoped>\n",
       "    .dataframe tbody tr th:only-of-type {\n",
       "        vertical-align: middle;\n",
       "    }\n",
       "\n",
       "    .dataframe tbody tr th {\n",
       "        vertical-align: top;\n",
       "    }\n",
       "\n",
       "    .dataframe thead th {\n",
       "        text-align: right;\n",
       "    }\n",
       "</style>\n",
       "<table border=\"1\" class=\"dataframe\">\n",
       "  <thead>\n",
       "    <tr style=\"text-align: right;\">\n",
       "      <th></th>\n",
       "      <th>Timestamp</th>\n",
       "      <th>Choose your gender</th>\n",
       "      <th>Age</th>\n",
       "      <th>What is your course?</th>\n",
       "      <th>Your current year of Study</th>\n",
       "      <th>What is your CGPA?</th>\n",
       "      <th>Marital status</th>\n",
       "      <th>Do you have Depression?</th>\n",
       "      <th>Do you have Anxiety?</th>\n",
       "      <th>Do you have Panic attack?</th>\n",
       "      <th>Did you seek any specialist for a treatment?</th>\n",
       "    </tr>\n",
       "  </thead>\n",
       "  <tbody>\n",
       "    <tr>\n",
       "      <th>0</th>\n",
       "      <td>8/7/2020 12:02</td>\n",
       "      <td>Female</td>\n",
       "      <td>18.0</td>\n",
       "      <td>Engineering</td>\n",
       "      <td>year 1</td>\n",
       "      <td>3.00 - 3.49</td>\n",
       "      <td>No</td>\n",
       "      <td>Yes</td>\n",
       "      <td>No</td>\n",
       "      <td>Yes</td>\n",
       "      <td>No</td>\n",
       "    </tr>\n",
       "    <tr>\n",
       "      <th>1</th>\n",
       "      <td>8/7/2020 12:04</td>\n",
       "      <td>Male</td>\n",
       "      <td>21.0</td>\n",
       "      <td>Islamic education</td>\n",
       "      <td>year 2</td>\n",
       "      <td>3.00 - 3.49</td>\n",
       "      <td>No</td>\n",
       "      <td>No</td>\n",
       "      <td>Yes</td>\n",
       "      <td>No</td>\n",
       "      <td>No</td>\n",
       "    </tr>\n",
       "    <tr>\n",
       "      <th>2</th>\n",
       "      <td>8/7/2020 12:05</td>\n",
       "      <td>Male</td>\n",
       "      <td>19.0</td>\n",
       "      <td>BIT</td>\n",
       "      <td>Year 1</td>\n",
       "      <td>3.00 - 3.49</td>\n",
       "      <td>No</td>\n",
       "      <td>Yes</td>\n",
       "      <td>Yes</td>\n",
       "      <td>Yes</td>\n",
       "      <td>No</td>\n",
       "    </tr>\n",
       "    <tr>\n",
       "      <th>3</th>\n",
       "      <td>8/7/2020 12:06</td>\n",
       "      <td>Female</td>\n",
       "      <td>22.0</td>\n",
       "      <td>Laws</td>\n",
       "      <td>year 3</td>\n",
       "      <td>3.00 - 3.49</td>\n",
       "      <td>Yes</td>\n",
       "      <td>Yes</td>\n",
       "      <td>No</td>\n",
       "      <td>No</td>\n",
       "      <td>No</td>\n",
       "    </tr>\n",
       "    <tr>\n",
       "      <th>4</th>\n",
       "      <td>8/7/2020 12:13</td>\n",
       "      <td>Male</td>\n",
       "      <td>23.0</td>\n",
       "      <td>Mathemathics</td>\n",
       "      <td>year 4</td>\n",
       "      <td>3.00 - 3.49</td>\n",
       "      <td>No</td>\n",
       "      <td>No</td>\n",
       "      <td>No</td>\n",
       "      <td>No</td>\n",
       "      <td>No</td>\n",
       "    </tr>\n",
       "  </tbody>\n",
       "</table>\n",
       "</div>"
      ],
      "text/plain": [
       "        Timestamp Choose your gender   Age What is your course?  \\\n",
       "0  8/7/2020 12:02             Female  18.0          Engineering   \n",
       "1  8/7/2020 12:04               Male  21.0    Islamic education   \n",
       "2  8/7/2020 12:05               Male  19.0                  BIT   \n",
       "3  8/7/2020 12:06             Female  22.0                 Laws   \n",
       "4  8/7/2020 12:13               Male  23.0         Mathemathics   \n",
       "\n",
       "  Your current year of Study What is your CGPA? Marital status  \\\n",
       "0                     year 1        3.00 - 3.49             No   \n",
       "1                     year 2        3.00 - 3.49             No   \n",
       "2                     Year 1        3.00 - 3.49             No   \n",
       "3                     year 3        3.00 - 3.49            Yes   \n",
       "4                     year 4        3.00 - 3.49             No   \n",
       "\n",
       "  Do you have Depression? Do you have Anxiety? Do you have Panic attack?  \\\n",
       "0                     Yes                   No                       Yes   \n",
       "1                      No                  Yes                        No   \n",
       "2                     Yes                  Yes                       Yes   \n",
       "3                     Yes                   No                        No   \n",
       "4                      No                   No                        No   \n",
       "\n",
       "  Did you seek any specialist for a treatment?  \n",
       "0                                           No  \n",
       "1                                           No  \n",
       "2                                           No  \n",
       "3                                           No  \n",
       "4                                           No  "
      ]
     },
     "execution_count": 3,
     "metadata": {},
     "output_type": "execute_result"
    }
   ],
   "source": [
    "# summary of data\n",
    "health_data.head()"
   ]
  },
  {
   "cell_type": "code",
   "execution_count": 4,
   "id": "01f40479",
   "metadata": {
    "execution": {
     "iopub.execute_input": "2023-03-21T02:06:02.536241Z",
     "iopub.status.busy": "2023-03-21T02:06:02.535821Z",
     "iopub.status.idle": "2023-03-21T02:06:02.553342Z",
     "shell.execute_reply": "2023-03-21T02:06:02.551848Z"
    },
    "papermill": {
     "duration": 0.026979,
     "end_time": "2023-03-21T02:06:02.555690",
     "exception": false,
     "start_time": "2023-03-21T02:06:02.528711",
     "status": "completed"
    },
    "tags": []
   },
   "outputs": [
    {
     "name": "stdout",
     "output_type": "stream",
     "text": [
      "Choose your gender:  ['Female' 'Male']\n",
      "What is your course?:  ['Engineering' 'Islamic education' 'BIT' 'Laws' 'Mathemathics'\n",
      " 'Pendidikan islam' 'BCS' 'Human Resources' 'Irkhs' 'Psychology' 'KENMS'\n",
      " 'Accounting ' 'ENM' 'Marine science' 'KOE' 'Banking Studies'\n",
      " 'Business Administration' 'Law' 'KIRKHS' 'Usuluddin ' 'TAASL' 'Engine'\n",
      " 'ALA' 'Biomedical science' 'koe' 'Kirkhs' 'BENL' 'Benl' 'IT' 'CTS'\n",
      " 'engin' 'Econs' 'MHSC' 'Malcom' 'Kop' 'Human Sciences ' 'Biotechnology'\n",
      " 'Communication ' 'Diploma Nursing' 'Pendidikan Islam ' 'Radiography'\n",
      " 'psychology' 'Fiqh fatwa ' 'DIPLOMA TESL' 'Koe' 'Fiqh'\n",
      " 'Islamic Education' 'Nursing ' 'Pendidikan Islam']\n",
      "Your current year of Study:  ['year 1' 'year 2' 'Year 1' 'year 3' 'year 4' 'Year 2' 'Year 3']\n",
      "What is your CGPA?:  ['3.00 - 3.49' '3.50 - 4.00' '3.50 - 4.00 ' '2.50 - 2.99' '2.00 - 2.49'\n",
      " '0 - 1.99']\n",
      "Do you have Depression?:  ['Yes' 'No']\n",
      "Do you have Anxiety?:  ['No' 'Yes']\n",
      "Do you have Panic attack?:  ['Yes' 'No']\n",
      "Did you seek any specialist for a treatment?:  ['No' 'Yes']\n",
      "Marital status:  ['No' 'Yes']\n"
     ]
    }
   ],
   "source": [
    "# finding all avalible options for each column\n",
    "print('Choose your gender: ', health_data['Choose your gender'].unique())\n",
    "print('What is your course?: ', health_data['What is your course?'].unique())\n",
    "print('Your current year of Study: ', health_data['Your current year of Study'].unique())\n",
    "print('What is your CGPA?: ', health_data['What is your CGPA?'].unique())\n",
    "\n",
    "print('Do you have Depression?: ', health_data['Do you have Depression?'].unique())\n",
    "print('Do you have Anxiety?: ', health_data['Do you have Anxiety?'].unique())\n",
    "print('Do you have Panic attack?: ', health_data['Do you have Panic attack?'].unique())\n",
    "print('Did you seek any specialist for a treatment?: ', health_data['Did you seek any specialist for a treatment?'].unique())\n",
    "print('Marital status: ', health_data['Marital status'].unique())"
   ]
  },
  {
   "cell_type": "code",
   "execution_count": 5,
   "id": "019d5b68",
   "metadata": {
    "execution": {
     "iopub.execute_input": "2023-03-21T02:06:02.569515Z",
     "iopub.status.busy": "2023-03-21T02:06:02.568340Z",
     "iopub.status.idle": "2023-03-21T02:06:02.581527Z",
     "shell.execute_reply": "2023-03-21T02:06:02.580258Z"
    },
    "papermill": {
     "duration": 0.022867,
     "end_time": "2023-03-21T02:06:02.584310",
     "exception": false,
     "start_time": "2023-03-21T02:06:02.561443",
     "status": "completed"
    },
    "tags": []
   },
   "outputs": [],
   "source": [
    "# creating binary variables\n",
    "health_data['Do you have Depression?'].replace(['Yes', 'No'],\n",
    "                        [1,0], inplace=True)\n",
    "health_data['Do you have Anxiety?'].replace(['Yes', 'No'],\n",
    "                        [1,0], inplace=True)\n",
    "health_data['Do you have Panic attack?'].replace(['Yes', 'No'],\n",
    "                        [1,0], inplace=True)\n",
    "health_data['Did you seek any specialist for a treatment?'].replace(['Yes', 'No'],\n",
    "                        [1,0], inplace=True)\n",
    "health_data['Marital status'].replace(['Yes', 'No'],\n",
    "                        [1,0], inplace=True)"
   ]
  },
  {
   "cell_type": "code",
   "execution_count": 6,
   "id": "53f7833a",
   "metadata": {
    "execution": {
     "iopub.execute_input": "2023-03-21T02:06:02.598370Z",
     "iopub.status.busy": "2023-03-21T02:06:02.597311Z",
     "iopub.status.idle": "2023-03-21T02:06:02.632653Z",
     "shell.execute_reply": "2023-03-21T02:06:02.631787Z"
    },
    "papermill": {
     "duration": 0.045087,
     "end_time": "2023-03-21T02:06:02.635208",
     "exception": false,
     "start_time": "2023-03-21T02:06:02.590121",
     "status": "completed"
    },
    "tags": []
   },
   "outputs": [
    {
     "data": {
      "text/html": [
       "<div>\n",
       "<style scoped>\n",
       "    .dataframe tbody tr th:only-of-type {\n",
       "        vertical-align: middle;\n",
       "    }\n",
       "\n",
       "    .dataframe tbody tr th {\n",
       "        vertical-align: top;\n",
       "    }\n",
       "\n",
       "    .dataframe thead th {\n",
       "        text-align: right;\n",
       "    }\n",
       "</style>\n",
       "<table border=\"1\" class=\"dataframe\">\n",
       "  <thead>\n",
       "    <tr style=\"text-align: right;\">\n",
       "      <th></th>\n",
       "      <th>Age</th>\n",
       "      <th>Marital status</th>\n",
       "      <th>Do you have Depression?</th>\n",
       "      <th>Do you have Anxiety?</th>\n",
       "      <th>Do you have Panic attack?</th>\n",
       "      <th>Did you seek any specialist for a treatment?</th>\n",
       "    </tr>\n",
       "  </thead>\n",
       "  <tbody>\n",
       "    <tr>\n",
       "      <th>count</th>\n",
       "      <td>100.00000</td>\n",
       "      <td>101.000000</td>\n",
       "      <td>101.000000</td>\n",
       "      <td>101.000000</td>\n",
       "      <td>101.000000</td>\n",
       "      <td>101.000000</td>\n",
       "    </tr>\n",
       "    <tr>\n",
       "      <th>mean</th>\n",
       "      <td>20.53000</td>\n",
       "      <td>0.158416</td>\n",
       "      <td>0.346535</td>\n",
       "      <td>0.336634</td>\n",
       "      <td>0.326733</td>\n",
       "      <td>0.059406</td>\n",
       "    </tr>\n",
       "    <tr>\n",
       "      <th>std</th>\n",
       "      <td>2.49628</td>\n",
       "      <td>0.366952</td>\n",
       "      <td>0.478239</td>\n",
       "      <td>0.474915</td>\n",
       "      <td>0.471358</td>\n",
       "      <td>0.237562</td>\n",
       "    </tr>\n",
       "    <tr>\n",
       "      <th>min</th>\n",
       "      <td>18.00000</td>\n",
       "      <td>0.000000</td>\n",
       "      <td>0.000000</td>\n",
       "      <td>0.000000</td>\n",
       "      <td>0.000000</td>\n",
       "      <td>0.000000</td>\n",
       "    </tr>\n",
       "    <tr>\n",
       "      <th>25%</th>\n",
       "      <td>18.00000</td>\n",
       "      <td>0.000000</td>\n",
       "      <td>0.000000</td>\n",
       "      <td>0.000000</td>\n",
       "      <td>0.000000</td>\n",
       "      <td>0.000000</td>\n",
       "    </tr>\n",
       "    <tr>\n",
       "      <th>50%</th>\n",
       "      <td>19.00000</td>\n",
       "      <td>0.000000</td>\n",
       "      <td>0.000000</td>\n",
       "      <td>0.000000</td>\n",
       "      <td>0.000000</td>\n",
       "      <td>0.000000</td>\n",
       "    </tr>\n",
       "    <tr>\n",
       "      <th>75%</th>\n",
       "      <td>23.00000</td>\n",
       "      <td>0.000000</td>\n",
       "      <td>1.000000</td>\n",
       "      <td>1.000000</td>\n",
       "      <td>1.000000</td>\n",
       "      <td>0.000000</td>\n",
       "    </tr>\n",
       "    <tr>\n",
       "      <th>max</th>\n",
       "      <td>24.00000</td>\n",
       "      <td>1.000000</td>\n",
       "      <td>1.000000</td>\n",
       "      <td>1.000000</td>\n",
       "      <td>1.000000</td>\n",
       "      <td>1.000000</td>\n",
       "    </tr>\n",
       "  </tbody>\n",
       "</table>\n",
       "</div>"
      ],
      "text/plain": [
       "             Age  Marital status  Do you have Depression?  \\\n",
       "count  100.00000      101.000000               101.000000   \n",
       "mean    20.53000        0.158416                 0.346535   \n",
       "std      2.49628        0.366952                 0.478239   \n",
       "min     18.00000        0.000000                 0.000000   \n",
       "25%     18.00000        0.000000                 0.000000   \n",
       "50%     19.00000        0.000000                 0.000000   \n",
       "75%     23.00000        0.000000                 1.000000   \n",
       "max     24.00000        1.000000                 1.000000   \n",
       "\n",
       "       Do you have Anxiety?  Do you have Panic attack?  \\\n",
       "count            101.000000                 101.000000   \n",
       "mean               0.336634                   0.326733   \n",
       "std                0.474915                   0.471358   \n",
       "min                0.000000                   0.000000   \n",
       "25%                0.000000                   0.000000   \n",
       "50%                0.000000                   0.000000   \n",
       "75%                1.000000                   1.000000   \n",
       "max                1.000000                   1.000000   \n",
       "\n",
       "       Did you seek any specialist for a treatment?  \n",
       "count                                    101.000000  \n",
       "mean                                       0.059406  \n",
       "std                                        0.237562  \n",
       "min                                        0.000000  \n",
       "25%                                        0.000000  \n",
       "50%                                        0.000000  \n",
       "75%                                        0.000000  \n",
       "max                                        1.000000  "
      ]
     },
     "execution_count": 6,
     "metadata": {},
     "output_type": "execute_result"
    }
   ],
   "source": [
    "# describing data\n",
    "health_data.describe()"
   ]
  },
  {
   "cell_type": "markdown",
   "id": "c53c6383",
   "metadata": {
    "papermill": {
     "duration": 0.005493,
     "end_time": "2023-03-21T02:06:02.646670",
     "exception": false,
     "start_time": "2023-03-21T02:06:02.641177",
     "status": "completed"
    },
    "tags": []
   },
   "source": [
    "## Data Cleaning"
   ]
  },
  {
   "cell_type": "code",
   "execution_count": 7,
   "id": "dd13fe8f",
   "metadata": {
    "execution": {
     "iopub.execute_input": "2023-03-21T02:06:02.660285Z",
     "iopub.status.busy": "2023-03-21T02:06:02.659591Z",
     "iopub.status.idle": "2023-03-21T02:06:02.668719Z",
     "shell.execute_reply": "2023-03-21T02:06:02.667474Z"
    },
    "papermill": {
     "duration": 0.018582,
     "end_time": "2023-03-21T02:06:02.671072",
     "exception": false,
     "start_time": "2023-03-21T02:06:02.652490",
     "status": "completed"
    },
    "tags": []
   },
   "outputs": [],
   "source": [
    "# lowercase\n",
    "health_data['Choose your gender'] = health_data['Choose your gender'].str.lower()\n",
    "health_data['What is your course?'] = health_data['What is your course?'].str.lower()\n",
    "health_data['Your current year of Study'] = health_data['Your current year of Study'].str.lower()\n",
    "health_data['What is your CGPA?'] = health_data['What is your CGPA?'].str.lower()"
   ]
  },
  {
   "cell_type": "code",
   "execution_count": 8,
   "id": "e7a27c8c",
   "metadata": {
    "execution": {
     "iopub.execute_input": "2023-03-21T02:06:02.684640Z",
     "iopub.status.busy": "2023-03-21T02:06:02.684224Z",
     "iopub.status.idle": "2023-03-21T02:06:02.693059Z",
     "shell.execute_reply": "2023-03-21T02:06:02.691795Z"
    },
    "papermill": {
     "duration": 0.018512,
     "end_time": "2023-03-21T02:06:02.695503",
     "exception": false,
     "start_time": "2023-03-21T02:06:02.676991",
     "status": "completed"
    },
    "tags": []
   },
   "outputs": [],
   "source": [
    "# trim whitespace\n",
    "health_data['Choose your gender'] = health_data['Choose your gender'].str.strip()\n",
    "health_data['What is your course?'] = health_data['What is your course?'].str.strip()\n",
    "health_data['Your current year of Study'] = health_data['Your current year of Study'].str.strip()\n",
    "health_data['What is your CGPA?'] = health_data['What is your CGPA?'].str.strip()"
   ]
  },
  {
   "cell_type": "code",
   "execution_count": 9,
   "id": "0b97fbe8",
   "metadata": {
    "execution": {
     "iopub.execute_input": "2023-03-21T02:06:02.710261Z",
     "iopub.status.busy": "2023-03-21T02:06:02.709502Z",
     "iopub.status.idle": "2023-03-21T02:06:02.717833Z",
     "shell.execute_reply": "2023-03-21T02:06:02.716641Z"
    },
    "papermill": {
     "duration": 0.019072,
     "end_time": "2023-03-21T02:06:02.720391",
     "exception": false,
     "start_time": "2023-03-21T02:06:02.701319",
     "status": "completed"
    },
    "tags": []
   },
   "outputs": [
    {
     "name": "stdout",
     "output_type": "stream",
     "text": [
      "Choose your gender:  ['female' 'male']\n",
      "What is your course?:  ['engineering' 'islamic education' 'bit' 'laws' 'mathemathics'\n",
      " 'pendidikan islam' 'bcs' 'human resources' 'irkhs' 'psychology' 'kenms'\n",
      " 'accounting' 'enm' 'marine science' 'koe' 'banking studies'\n",
      " 'business administration' 'law' 'kirkhs' 'usuluddin' 'taasl' 'engine'\n",
      " 'ala' 'biomedical science' 'benl' 'it' 'cts' 'engin' 'econs' 'mhsc'\n",
      " 'malcom' 'kop' 'human sciences' 'biotechnology' 'communication'\n",
      " 'diploma nursing' 'radiography' 'fiqh fatwa' 'diploma tesl' 'fiqh'\n",
      " 'nursing']\n",
      "Your current year of Study:  ['year 1' 'year 2' 'year 3' 'year 4']\n",
      "What is your CGPA?:  ['3.00 - 3.49' '3.50 - 4.00' '2.50 - 2.99' '2.00 - 2.49' '0 - 1.99']\n"
     ]
    }
   ],
   "source": [
    "print('Choose your gender: ', health_data['Choose your gender'].unique())\n",
    "print('What is your course?: ', health_data['What is your course?'].unique())\n",
    "print('Your current year of Study: ', health_data['Your current year of Study'].unique())\n",
    "print('What is your CGPA?: ', health_data['What is your CGPA?'].unique())"
   ]
  },
  {
   "cell_type": "markdown",
   "id": "06477c42",
   "metadata": {
    "papermill": {
     "duration": 0.005587,
     "end_time": "2023-03-21T02:06:02.731975",
     "exception": false,
     "start_time": "2023-03-21T02:06:02.726388",
     "status": "completed"
    },
    "tags": []
   },
   "source": [
    "## Data Visualizations"
   ]
  },
  {
   "cell_type": "code",
   "execution_count": 10,
   "id": "570e05bd",
   "metadata": {
    "execution": {
     "iopub.execute_input": "2023-03-21T02:06:02.745738Z",
     "iopub.status.busy": "2023-03-21T02:06:02.745291Z",
     "iopub.status.idle": "2023-03-21T02:06:03.383506Z",
     "shell.execute_reply": "2023-03-21T02:06:03.382569Z"
    },
    "papermill": {
     "duration": 0.648148,
     "end_time": "2023-03-21T02:06:03.385937",
     "exception": false,
     "start_time": "2023-03-21T02:06:02.737789",
     "status": "completed"
    },
    "tags": []
   },
   "outputs": [
    {
     "data": {
      "text/plain": [
       "<AxesSubplot:title={'center':'cGPA'}>"
      ]
     },
     "execution_count": 10,
     "metadata": {},
     "output_type": "execute_result"
    },
    {
     "data": {
      "image/png": "[encoded data removed]",
      "text/plain": [
       "<Figure size 640x480 with 4 Axes>"
      ]
     },
     "metadata": {},
     "output_type": "display_data"
    }
   ],
   "source": [
    "fig, axes = plt.subplots(nrows=2, ncols=2)\n",
    "fig.tight_layout(pad=5)\n",
    "health_data['Choose your gender'].value_counts().plot(kind='bar', title=\"Gender\", ylabel=\"Number of Students\",ax=axes[0,0])\n",
    "health_data['Marital status'].value_counts().plot(kind='bar', title=\"Married?\", xlabel=\"0 = No, 1 = Yes\", ylabel=\"Number of Students\",ax=axes[1,0])\n",
    "health_data['Your current year of Study'].value_counts().plot(kind='bar', title=\"Year of Study\",ax=axes[0,1])\n",
    "health_data['What is your CGPA?'].value_counts().sort_index().plot(kind='bar', title=\"cGPA\",ax=axes[1,1])\n"
   ]
  },
  {
   "cell_type": "code",
   "execution_count": 11,
   "id": "7b53fd79",
   "metadata": {
    "execution": {
     "iopub.execute_input": "2023-03-21T02:06:03.401518Z",
     "iopub.status.busy": "2023-03-21T02:06:03.400445Z",
     "iopub.status.idle": "2023-03-21T02:06:03.634617Z",
     "shell.execute_reply": "2023-03-21T02:06:03.632430Z"
    },
    "papermill": {
     "duration": 0.244743,
     "end_time": "2023-03-21T02:06:03.637431",
     "exception": false,
     "start_time": "2023-03-21T02:06:03.392688",
     "status": "completed"
    },
    "tags": []
   },
   "outputs": [
    {
     "data": {
      "text/plain": [
       "<AxesSubplot:title={'center':'Age'}>"
      ]
     },
     "execution_count": 11,
     "metadata": {},
     "output_type": "execute_result"
    },
    {
     "data": {
      "image/png": "[encoded data removed]",
      "text/plain": [
       "<Figure size 640x480 with 1 Axes>"
      ]
     },
     "metadata": {},
     "output_type": "display_data"
    }
   ],
   "source": [
    "health_data['Age'].value_counts().sort_index().plot(kind='bar', title=\"Age\")"
   ]
  },
  {
   "cell_type": "code",
   "execution_count": 12,
   "id": "76dee15a",
   "metadata": {
    "execution": {
     "iopub.execute_input": "2023-03-21T02:06:03.653213Z",
     "iopub.status.busy": "2023-03-21T02:06:03.652805Z",
     "iopub.status.idle": "2023-03-21T02:06:04.374705Z",
     "shell.execute_reply": "2023-03-21T02:06:04.373753Z"
    },
    "papermill": {
     "duration": 0.732939,
     "end_time": "2023-03-21T02:06:04.377375",
     "exception": false,
     "start_time": "2023-03-21T02:06:03.644436",
     "status": "completed"
    },
    "tags": []
   },
   "outputs": [
    {
     "data": {
      "text/plain": [
       "<AxesSubplot:title={'center':'Major'}, ylabel='Number of Students'>"
      ]
     },
     "execution_count": 12,
     "metadata": {},
     "output_type": "execute_result"
    },
    {
     "data": {
      "image/png": "[encoded data removed]",
      "text/plain": [
       "<Figure size 640x480 with 1 Axes>"
      ]
     },
     "metadata": {},
     "output_type": "display_data"
    }
   ],
   "source": [
    "health_data['What is your course?'].value_counts().plot(kind='bar', title=\"Major\", ylabel=\"Number of Students\")"
   ]
  },
  {
   "cell_type": "code",
   "execution_count": 13,
   "id": "35d5f1f8",
   "metadata": {
    "execution": {
     "iopub.execute_input": "2023-03-21T02:06:04.396716Z",
     "iopub.status.busy": "2023-03-21T02:06:04.395739Z",
     "iopub.status.idle": "2023-03-21T02:06:04.940079Z",
     "shell.execute_reply": "2023-03-21T02:06:04.938955Z"
    },
    "papermill": {
     "duration": 0.557704,
     "end_time": "2023-03-21T02:06:04.943513",
     "exception": false,
     "start_time": "2023-03-21T02:06:04.385809",
     "status": "completed"
    },
    "tags": []
   },
   "outputs": [
    {
     "data": {
      "text/plain": [
       "<AxesSubplot:title={'center':'Specialist Count'}, xlabel='0 = No, 1 = Yes'>"
      ]
     },
     "execution_count": 13,
     "metadata": {},
     "output_type": "execute_result"
    },
    {
     "data": {
      "image/png": "[encoded data removed]",
      "text/plain": [
       "<Figure size 640x480 with 4 Axes>"
      ]
     },
     "metadata": {},
     "output_type": "display_data"
    }
   ],
   "source": [
    "fig, axes = plt.subplots(nrows=2, ncols=2)\n",
    "fig.tight_layout(pad=2.0)\n",
    "health_data['Do you have Anxiety?'].value_counts().plot(kind='bar', title=\"Anxiety Count\", ylabel=\"Number of Students\",ax=axes[0,0])\n",
    "health_data['Do you have Depression?'].value_counts().plot(kind='bar', title=\"Depression Count\", xlabel=\"0 = No, 1 = Yes\", ylabel=\"Number of Students\",ax=axes[1,0])\n",
    "health_data['Do you have Panic attack?'].value_counts().plot(kind='bar', title=\"Panic Count\",ax=axes[0,1])\n",
    "health_data['Did you seek any specialist for a treatment?'].value_counts().plot(kind='bar', title=\"Specialist Count\", xlabel=\"0 = No, 1 = Yes\",ax=axes[1,1])"
   ]
  },
  {
   "cell_type": "markdown",
   "id": "0d3d3407",
   "metadata": {
    "papermill": {
     "duration": 0.008334,
     "end_time": "2023-03-21T02:06:04.960615",
     "exception": false,
     "start_time": "2023-03-21T02:06:04.952281",
     "status": "completed"
    },
    "tags": []
   },
   "source": [
    "## Modelling"
   ]
  },
  {
   "cell_type": "code",
   "execution_count": 14,
   "id": "715c623f",
   "metadata": {
    "execution": {
     "iopub.execute_input": "2023-03-21T02:06:04.979516Z",
     "iopub.status.busy": "2023-03-21T02:06:04.979098Z",
     "iopub.status.idle": "2023-03-21T02:06:04.983379Z",
     "shell.execute_reply": "2023-03-21T02:06:04.982548Z"
    },
    "papermill": {
     "duration": 0.016465,
     "end_time": "2023-03-21T02:06:04.985580",
     "exception": false,
     "start_time": "2023-03-21T02:06:04.969115",
     "status": "completed"
    },
    "tags": []
   },
   "outputs": [],
   "source": [
    "# Random Forest Model"
   ]
  }
 ],
 "metadata": {
  "kernelspec": {
   "display_name": "Python 3",
   "language": "python",
   "name": "python3"
  },
  "language_info": {
   "codemirror_mode": {
    "name": "ipython",
    "version": 3
   },
   "file_extension": ".py",
   "mimetype": "text/x-python",
   "name": "python",
   "nbconvert_exporter": "python",
   "pygments_lexer": "ipython3",
   "version": "3.7.12"
  },
  "papermill": {
   "default_parameters": {},
   "duration": 13.242429,
   "end_time": "2023-03-21T02:06:05.716998",
   "environment_variables": {},
   "exception": null,
   "input_path": "__notebook__.ipynb",
   "output_path": "__notebook__.ipynb",
   "parameters": {},
   "start_time": "2023-03-21T02:05:52.474569",
   "version": "2.4.0"
  }
 },
 "nbformat": 4,
 "nbformat_minor": 5
}
